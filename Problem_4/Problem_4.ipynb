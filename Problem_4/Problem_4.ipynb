{
  "nbformat": 4,
  "nbformat_minor": 0,
  "metadata": {
    "colab": {
      "provenance": [],
      "authorship_tag": "ABX9TyMkFWkQsrXKdHn73ZLstVb4",
      "include_colab_link": true
    },
    "kernelspec": {
      "name": "python3",
      "display_name": "Python 3"
    },
    "language_info": {
      "name": "python"
    }
  },
  "cells": [
    {
      "cell_type": "markdown",
      "metadata": {
        "id": "view-in-github",
        "colab_type": "text"
      },
      "source": [
        "<a href=\"https://colab.research.google.com/github/goglom/MMAD/blob/main/Problem_4/Problem_4.ipynb\" target=\"_parent\"><img src=\"https://colab.research.google.com/assets/colab-badge.svg\" alt=\"Open In Colab\"/></a>"
      ]
    },
    {
      "cell_type": "code",
      "execution_count": 12,
      "metadata": {
        "id": "tZa5vxbArG7d"
      },
      "outputs": [],
      "source": [
        "import numpy as np\n",
        "import pandas as pd\n",
        "\n",
        "from sklearn.preprocessing import LabelEncoder, OneHotEncoder\n",
        "from sklearn.linear_model import LinearRegression"
      ]
    },
    {
      "cell_type": "code",
      "source": [
        "! wget https://github.com/goglom/MMAD/blob/main/Problem_4/avocado.csv"
      ],
      "metadata": {
        "colab": {
          "base_uri": "https://localhost:8080/"
        },
        "id": "NIKLMm_yrHnZ",
        "outputId": "d901d2e6-e59f-4e81-b913-4dc045a393b9"
      },
      "execution_count": 5,
      "outputs": [
        {
          "output_type": "stream",
          "name": "stdout",
          "text": [
            "--2022-12-01 18:47:11--  https://github.com/goglom/MMAD/blob/main/Problem_4/avocado.csv\n",
            "Resolving github.com (github.com)... 140.82.112.3\n",
            "Connecting to github.com (github.com)|140.82.112.3|:443... connected.\n",
            "HTTP request sent, awaiting response... 200 OK\n",
            "Length: unspecified [text/html]\n",
            "Saving to: ‘avocado.csv’\n",
            "\n",
            "avocado.csv             [ <=>                ] 134.45K   733KB/s    in 0.2s    \n",
            "\n",
            "2022-12-01 18:47:12 (733 KB/s) - ‘avocado.csv’ saved [137673]\n",
            "\n"
          ]
        }
      ]
    },
    {
      "cell_type": "code",
      "source": [
        "df = pd.read_csv('avocado.csv')"
      ],
      "metadata": {
        "id": "oQhoQcgZtUe8"
      },
      "execution_count": 11,
      "outputs": []
    }
  ]
}