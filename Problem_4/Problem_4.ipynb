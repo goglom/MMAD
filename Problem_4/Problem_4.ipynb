{
  "cells": [
    {
      "cell_type": "code",
      "execution_count": 270,
      "metadata": {
        "id": "tZa5vxbArG7d"
      },
      "outputs": [],
      "source": [
        "import numpy as np\n",
        "import pandas as pd\n",
        "\n",
        "from sklearn.decomposition import PCA\n",
        "from sklearn.ensemble import GradientBoostingRegressor\n",
        "from sklearn.linear_model import LinearRegression\n",
        "from sklearn.model_selection import train_test_split, cross_validate, GridSearchCV\n",
        "from sklearn.metrics import mean_squared_error\n",
        "\n",
        "\n",
        "def rmse(y_gt, y_pred):\n",
        "  return mean_squared_error(y_gt, y_pred, squared=False)"
      ]
    },
    {
      "cell_type": "markdown",
      "metadata": {},
      "source": [
        "# Задание 1\n",
        "\n",
        "Выбрать подходящую таблицу данных (должна содержать числовые и категориальные переменные). Временно убрать категориальные признаки. Построить линейную регрессию.\n"
      ]
    },
    {
      "cell_type": "code",
      "execution_count": 230,
      "metadata": {
        "id": "oQhoQcgZtUe8"
      },
      "outputs": [
        {
          "data": {
            "text/html": [
              "<div>\n",
              "<style scoped>\n",
              "    .dataframe tbody tr th:only-of-type {\n",
              "        vertical-align: middle;\n",
              "    }\n",
              "\n",
              "    .dataframe tbody tr th {\n",
              "        vertical-align: top;\n",
              "    }\n",
              "\n",
              "    .dataframe thead th {\n",
              "        text-align: right;\n",
              "    }\n",
              "</style>\n",
              "<table border=\"1\" class=\"dataframe\">\n",
              "  <thead>\n",
              "    <tr style=\"text-align: right;\">\n",
              "      <th></th>\n",
              "      <th>Date</th>\n",
              "      <th>AveragePrice</th>\n",
              "      <th>Total Volume</th>\n",
              "      <th>Small Hass</th>\n",
              "      <th>Large Hass</th>\n",
              "      <th>XLarge Hass</th>\n",
              "      <th>Total Bags</th>\n",
              "      <th>Small Bags</th>\n",
              "      <th>Large Bags</th>\n",
              "      <th>XLarge Bags</th>\n",
              "      <th>type</th>\n",
              "      <th>year</th>\n",
              "      <th>region</th>\n",
              "    </tr>\n",
              "  </thead>\n",
              "  <tbody>\n",
              "    <tr>\n",
              "      <th>0</th>\n",
              "      <td>2015-12-27</td>\n",
              "      <td>1.33</td>\n",
              "      <td>64236.62</td>\n",
              "      <td>1036.74</td>\n",
              "      <td>54454.85</td>\n",
              "      <td>48.16</td>\n",
              "      <td>8696.87</td>\n",
              "      <td>8603.62</td>\n",
              "      <td>93.25</td>\n",
              "      <td>0.0</td>\n",
              "      <td>conventional</td>\n",
              "      <td>2015</td>\n",
              "      <td>Albany</td>\n",
              "    </tr>\n",
              "    <tr>\n",
              "      <th>1</th>\n",
              "      <td>2015-12-20</td>\n",
              "      <td>1.35</td>\n",
              "      <td>54876.98</td>\n",
              "      <td>674.28</td>\n",
              "      <td>44638.81</td>\n",
              "      <td>58.33</td>\n",
              "      <td>9505.56</td>\n",
              "      <td>9408.07</td>\n",
              "      <td>97.49</td>\n",
              "      <td>0.0</td>\n",
              "      <td>conventional</td>\n",
              "      <td>2015</td>\n",
              "      <td>Albany</td>\n",
              "    </tr>\n",
              "    <tr>\n",
              "      <th>2</th>\n",
              "      <td>2015-12-13</td>\n",
              "      <td>0.93</td>\n",
              "      <td>118220.22</td>\n",
              "      <td>794.70</td>\n",
              "      <td>109149.67</td>\n",
              "      <td>130.50</td>\n",
              "      <td>8145.35</td>\n",
              "      <td>8042.21</td>\n",
              "      <td>103.14</td>\n",
              "      <td>0.0</td>\n",
              "      <td>conventional</td>\n",
              "      <td>2015</td>\n",
              "      <td>Albany</td>\n",
              "    </tr>\n",
              "    <tr>\n",
              "      <th>3</th>\n",
              "      <td>2015-12-06</td>\n",
              "      <td>1.08</td>\n",
              "      <td>78992.15</td>\n",
              "      <td>1132.00</td>\n",
              "      <td>71976.41</td>\n",
              "      <td>72.58</td>\n",
              "      <td>5811.16</td>\n",
              "      <td>5677.40</td>\n",
              "      <td>133.76</td>\n",
              "      <td>0.0</td>\n",
              "      <td>conventional</td>\n",
              "      <td>2015</td>\n",
              "      <td>Albany</td>\n",
              "    </tr>\n",
              "    <tr>\n",
              "      <th>4</th>\n",
              "      <td>2015-11-29</td>\n",
              "      <td>1.28</td>\n",
              "      <td>51039.60</td>\n",
              "      <td>941.48</td>\n",
              "      <td>43838.39</td>\n",
              "      <td>75.78</td>\n",
              "      <td>6183.95</td>\n",
              "      <td>5986.26</td>\n",
              "      <td>197.69</td>\n",
              "      <td>0.0</td>\n",
              "      <td>conventional</td>\n",
              "      <td>2015</td>\n",
              "      <td>Albany</td>\n",
              "    </tr>\n",
              "  </tbody>\n",
              "</table>\n",
              "</div>"
            ],
            "text/plain": [
              "         Date  AveragePrice  Total Volume  Small Hass  Large Hass  \\\n",
              "0  2015-12-27          1.33      64236.62     1036.74    54454.85   \n",
              "1  2015-12-20          1.35      54876.98      674.28    44638.81   \n",
              "2  2015-12-13          0.93     118220.22      794.70   109149.67   \n",
              "3  2015-12-06          1.08      78992.15     1132.00    71976.41   \n",
              "4  2015-11-29          1.28      51039.60      941.48    43838.39   \n",
              "\n",
              "   XLarge Hass  Total Bags  Small Bags  Large Bags  XLarge Bags          type  \\\n",
              "0        48.16     8696.87     8603.62       93.25          0.0  conventional   \n",
              "1        58.33     9505.56     9408.07       97.49          0.0  conventional   \n",
              "2       130.50     8145.35     8042.21      103.14          0.0  conventional   \n",
              "3        72.58     5811.16     5677.40      133.76          0.0  conventional   \n",
              "4        75.78     6183.95     5986.26      197.69          0.0  conventional   \n",
              "\n",
              "   year  region  \n",
              "0  2015  Albany  \n",
              "1  2015  Albany  \n",
              "2  2015  Albany  \n",
              "3  2015  Albany  \n",
              "4  2015  Albany  "
            ]
          },
          "execution_count": 230,
          "metadata": {},
          "output_type": "execute_result"
        }
      ],
      "source": [
        "df = pd.read_csv('avocado.csv')\n",
        "TARGET_NAME = 'AveragePrice'\n",
        "\n",
        "df.drop([df.columns[0]], axis=1, inplace=True)\n",
        "\n",
        "df.head()"
      ]
    },
    {
      "cell_type": "code",
      "execution_count": 231,
      "metadata": {},
      "outputs": [
        {
          "data": {
            "text/html": [
              "<div>\n",
              "<style scoped>\n",
              "    .dataframe tbody tr th:only-of-type {\n",
              "        vertical-align: middle;\n",
              "    }\n",
              "\n",
              "    .dataframe tbody tr th {\n",
              "        vertical-align: top;\n",
              "    }\n",
              "\n",
              "    .dataframe thead th {\n",
              "        text-align: right;\n",
              "    }\n",
              "</style>\n",
              "<table border=\"1\" class=\"dataframe\">\n",
              "  <thead>\n",
              "    <tr style=\"text-align: right;\">\n",
              "      <th></th>\n",
              "      <th>Date</th>\n",
              "      <th>AveragePrice</th>\n",
              "      <th>Total Volume</th>\n",
              "      <th>Small Hass</th>\n",
              "      <th>Large Hass</th>\n",
              "      <th>XLarge Hass</th>\n",
              "      <th>Total Bags</th>\n",
              "      <th>Small Bags</th>\n",
              "      <th>Large Bags</th>\n",
              "      <th>XLarge Bags</th>\n",
              "      <th>type</th>\n",
              "      <th>year</th>\n",
              "      <th>region</th>\n",
              "    </tr>\n",
              "  </thead>\n",
              "  <tbody>\n",
              "    <tr>\n",
              "      <th>0</th>\n",
              "      <td>735959</td>\n",
              "      <td>1.33</td>\n",
              "      <td>64236.62</td>\n",
              "      <td>1036.74</td>\n",
              "      <td>54454.85</td>\n",
              "      <td>48.16</td>\n",
              "      <td>8696.87</td>\n",
              "      <td>8603.62</td>\n",
              "      <td>93.25</td>\n",
              "      <td>0.0</td>\n",
              "      <td>conventional</td>\n",
              "      <td>2015</td>\n",
              "      <td>Albany</td>\n",
              "    </tr>\n",
              "    <tr>\n",
              "      <th>1</th>\n",
              "      <td>735952</td>\n",
              "      <td>1.35</td>\n",
              "      <td>54876.98</td>\n",
              "      <td>674.28</td>\n",
              "      <td>44638.81</td>\n",
              "      <td>58.33</td>\n",
              "      <td>9505.56</td>\n",
              "      <td>9408.07</td>\n",
              "      <td>97.49</td>\n",
              "      <td>0.0</td>\n",
              "      <td>conventional</td>\n",
              "      <td>2015</td>\n",
              "      <td>Albany</td>\n",
              "    </tr>\n",
              "    <tr>\n",
              "      <th>2</th>\n",
              "      <td>735945</td>\n",
              "      <td>0.93</td>\n",
              "      <td>118220.22</td>\n",
              "      <td>794.70</td>\n",
              "      <td>109149.67</td>\n",
              "      <td>130.50</td>\n",
              "      <td>8145.35</td>\n",
              "      <td>8042.21</td>\n",
              "      <td>103.14</td>\n",
              "      <td>0.0</td>\n",
              "      <td>conventional</td>\n",
              "      <td>2015</td>\n",
              "      <td>Albany</td>\n",
              "    </tr>\n",
              "    <tr>\n",
              "      <th>3</th>\n",
              "      <td>735938</td>\n",
              "      <td>1.08</td>\n",
              "      <td>78992.15</td>\n",
              "      <td>1132.00</td>\n",
              "      <td>71976.41</td>\n",
              "      <td>72.58</td>\n",
              "      <td>5811.16</td>\n",
              "      <td>5677.40</td>\n",
              "      <td>133.76</td>\n",
              "      <td>0.0</td>\n",
              "      <td>conventional</td>\n",
              "      <td>2015</td>\n",
              "      <td>Albany</td>\n",
              "    </tr>\n",
              "    <tr>\n",
              "      <th>4</th>\n",
              "      <td>735931</td>\n",
              "      <td>1.28</td>\n",
              "      <td>51039.60</td>\n",
              "      <td>941.48</td>\n",
              "      <td>43838.39</td>\n",
              "      <td>75.78</td>\n",
              "      <td>6183.95</td>\n",
              "      <td>5986.26</td>\n",
              "      <td>197.69</td>\n",
              "      <td>0.0</td>\n",
              "      <td>conventional</td>\n",
              "      <td>2015</td>\n",
              "      <td>Albany</td>\n",
              "    </tr>\n",
              "  </tbody>\n",
              "</table>\n",
              "</div>"
            ],
            "text/plain": [
              "     Date  AveragePrice  Total Volume  Small Hass  Large Hass  XLarge Hass  \\\n",
              "0  735959          1.33      64236.62     1036.74    54454.85        48.16   \n",
              "1  735952          1.35      54876.98      674.28    44638.81        58.33   \n",
              "2  735945          0.93     118220.22      794.70   109149.67       130.50   \n",
              "3  735938          1.08      78992.15     1132.00    71976.41        72.58   \n",
              "4  735931          1.28      51039.60      941.48    43838.39        75.78   \n",
              "\n",
              "   Total Bags  Small Bags  Large Bags  XLarge Bags          type  year  region  \n",
              "0     8696.87     8603.62       93.25          0.0  conventional  2015  Albany  \n",
              "1     9505.56     9408.07       97.49          0.0  conventional  2015  Albany  \n",
              "2     8145.35     8042.21      103.14          0.0  conventional  2015  Albany  \n",
              "3     5811.16     5677.40      133.76          0.0  conventional  2015  Albany  \n",
              "4     6183.95     5986.26      197.69          0.0  conventional  2015  Albany  "
            ]
          },
          "execution_count": 231,
          "metadata": {},
          "output_type": "execute_result"
        }
      ],
      "source": [
        "df['Date'] = pd.to_datetime(df['Date'],)\n",
        "df['Date'] = df['Date'].map(lambda x:  x.toordinal())\n",
        "\n",
        "df.head()"
      ]
    },
    {
      "cell_type": "markdown",
      "metadata": {},
      "source": [
        "Total Bags = Small Bags + Large Bags + XLarge Bags\n",
        "\n",
        "\n",
        "Total Volume = Small Hass +Large Hass +XLarge Hass + Total Bag\n"
      ]
    },
    {
      "cell_type": "code",
      "execution_count": 232,
      "metadata": {},
      "outputs": [
        {
          "name": "stdout",
          "output_type": "stream",
          "text": [
            "<class 'pandas.core.frame.DataFrame'>\n",
            "RangeIndex: 18249 entries, 0 to 18248\n",
            "Data columns (total 10 columns):\n",
            " #   Column        Non-Null Count  Dtype  \n",
            "---  ------        --------------  -----  \n",
            " 0   Date          18249 non-null  int64  \n",
            " 1   AveragePrice  18249 non-null  float64\n",
            " 2   Small Hass    18249 non-null  float64\n",
            " 3   Large Hass    18249 non-null  float64\n",
            " 4   XLarge Hass   18249 non-null  float64\n",
            " 5   Small Bags    18249 non-null  float64\n",
            " 6   Large Bags    18249 non-null  float64\n",
            " 7   XLarge Bags   18249 non-null  float64\n",
            " 8   type          18249 non-null  object \n",
            " 9   region        18249 non-null  object \n",
            "dtypes: float64(7), int64(1), object(2)\n",
            "memory usage: 1.4+ MB\n"
          ]
        }
      ],
      "source": [
        "droped = ['Total Volume', 'Total Bags', 'year']\n",
        "df.drop(droped, axis=1, inplace=True)  \n",
        "\n",
        "numeric_columns = ['AveragePrice',\n",
        "                   'Small Hass', 'Large Hass', 'XLarge Hass',\n",
        "                   'Small Bags', 'Large Bags', 'XLarge Bags']\n",
        "\n",
        "categorical_columns = ['region', 'type']\n",
        "\n",
        "df.info()"
      ]
    },
    {
      "cell_type": "code",
      "execution_count": 233,
      "metadata": {},
      "outputs": [],
      "source": [
        "X = df.drop(categorical_columns + [TARGET_NAME], axis=1).to_numpy()\n",
        "y = df[TARGET_NAME].to_numpy()\n",
        "mean_target_value = np.mean(y)"
      ]
    },
    {
      "cell_type": "code",
      "execution_count": 234,
      "metadata": {},
      "outputs": [],
      "source": [
        "def test_clf(clf, x_data, y_data):\n",
        "  cv_res = cross_validate(clf, x_data, y_data, cv=5, scoring='neg_mean_squared_error', n_jobs=-1)\n",
        "  print(f'Mean target value: {mean_target_value:.2f}')\n",
        "  print('Cross-val RMSE: {0:.1e}'.format(np.sqrt(-cv_res['test_score'].mean())))"
      ]
    },
    {
      "cell_type": "code",
      "execution_count": 235,
      "metadata": {},
      "outputs": [
        {
          "name": "stdout",
          "output_type": "stream",
          "text": [
            "Mean target value: 1.41\n",
            "Cross-val RMSE: 4.7e-01\n"
          ]
        }
      ],
      "source": [
        "test_clf(LinearRegression(), X, y)"
      ]
    },
    {
      "cell_type": "markdown",
      "metadata": {},
      "source": [
        "# Задание 2\n",
        "Построить решение методом бустинга. Сравнить с линейной регрессией."
      ]
    },
    {
      "cell_type": "code",
      "execution_count": 236,
      "metadata": {},
      "outputs": [],
      "source": [
        "def build_gb(x_data, y_data):\n",
        "  params = {\n",
        "    'n_estimators' : [200, 800],\n",
        "    'max_depth' : [3, 5, 10]\n",
        "  }\n",
        "\n",
        "  grid_search_gb = GridSearchCV(GradientBoostingRegressor(random_state=0), cv=3, param_grid=params, n_jobs=-1, \n",
        "                    scoring='neg_mean_squared_error')\n",
        "\n",
        "  grid_search_gb.fit(x_data, y_data)\n",
        "  print('Best params: ', grid_search_gb.best_params_)\n",
        "  return grid_search_gb.best_estimator_"
      ]
    },
    {
      "cell_type": "code",
      "execution_count": 237,
      "metadata": {},
      "outputs": [
        {
          "name": "stdout",
          "output_type": "stream",
          "text": [
            "Best params:  {'max_depth': 3, 'n_estimators': 800}\n"
          ]
        }
      ],
      "source": [
        "gbooster = build_gb(X, y)"
      ]
    },
    {
      "cell_type": "code",
      "execution_count": 238,
      "metadata": {},
      "outputs": [
        {
          "name": "stdout",
          "output_type": "stream",
          "text": [
            "Mean target value: 1.41\n",
            "Cross-val RMSE: 2.6e-01\n"
          ]
        }
      ],
      "source": [
        "test_clf(gbooster, X, y)"
      ]
    },
    {
      "cell_type": "markdown",
      "metadata": {},
      "source": [
        "# Задание 3\n",
        "Применить one hot и target encoding для категориальных признаков (взять данные, где такие признаки есть). Сравнить точность."
      ]
    },
    {
      "cell_type": "code",
      "execution_count": 239,
      "metadata": {},
      "outputs": [
        {
          "data": {
            "text/html": [
              "<div>\n",
              "<style scoped>\n",
              "    .dataframe tbody tr th:only-of-type {\n",
              "        vertical-align: middle;\n",
              "    }\n",
              "\n",
              "    .dataframe tbody tr th {\n",
              "        vertical-align: top;\n",
              "    }\n",
              "\n",
              "    .dataframe thead th {\n",
              "        text-align: right;\n",
              "    }\n",
              "</style>\n",
              "<table border=\"1\" class=\"dataframe\">\n",
              "  <thead>\n",
              "    <tr style=\"text-align: right;\">\n",
              "      <th></th>\n",
              "      <th>region_Albany</th>\n",
              "      <th>region_Atlanta</th>\n",
              "      <th>region_BaltimoreWashington</th>\n",
              "      <th>region_Boise</th>\n",
              "      <th>region_Boston</th>\n",
              "      <th>region_BuffaloRochester</th>\n",
              "      <th>region_California</th>\n",
              "      <th>region_Charlotte</th>\n",
              "      <th>region_Chicago</th>\n",
              "      <th>region_CincinnatiDayton</th>\n",
              "      <th>...</th>\n",
              "      <th>region_Southeast</th>\n",
              "      <th>region_Spokane</th>\n",
              "      <th>region_StLouis</th>\n",
              "      <th>region_Syracuse</th>\n",
              "      <th>region_Tampa</th>\n",
              "      <th>region_TotalUS</th>\n",
              "      <th>region_West</th>\n",
              "      <th>region_WestTexNewMexico</th>\n",
              "      <th>type_conventional</th>\n",
              "      <th>type_organic</th>\n",
              "    </tr>\n",
              "  </thead>\n",
              "  <tbody>\n",
              "    <tr>\n",
              "      <th>0</th>\n",
              "      <td>1</td>\n",
              "      <td>0</td>\n",
              "      <td>0</td>\n",
              "      <td>0</td>\n",
              "      <td>0</td>\n",
              "      <td>0</td>\n",
              "      <td>0</td>\n",
              "      <td>0</td>\n",
              "      <td>0</td>\n",
              "      <td>0</td>\n",
              "      <td>...</td>\n",
              "      <td>0</td>\n",
              "      <td>0</td>\n",
              "      <td>0</td>\n",
              "      <td>0</td>\n",
              "      <td>0</td>\n",
              "      <td>0</td>\n",
              "      <td>0</td>\n",
              "      <td>0</td>\n",
              "      <td>1</td>\n",
              "      <td>0</td>\n",
              "    </tr>\n",
              "    <tr>\n",
              "      <th>1</th>\n",
              "      <td>1</td>\n",
              "      <td>0</td>\n",
              "      <td>0</td>\n",
              "      <td>0</td>\n",
              "      <td>0</td>\n",
              "      <td>0</td>\n",
              "      <td>0</td>\n",
              "      <td>0</td>\n",
              "      <td>0</td>\n",
              "      <td>0</td>\n",
              "      <td>...</td>\n",
              "      <td>0</td>\n",
              "      <td>0</td>\n",
              "      <td>0</td>\n",
              "      <td>0</td>\n",
              "      <td>0</td>\n",
              "      <td>0</td>\n",
              "      <td>0</td>\n",
              "      <td>0</td>\n",
              "      <td>1</td>\n",
              "      <td>0</td>\n",
              "    </tr>\n",
              "    <tr>\n",
              "      <th>2</th>\n",
              "      <td>1</td>\n",
              "      <td>0</td>\n",
              "      <td>0</td>\n",
              "      <td>0</td>\n",
              "      <td>0</td>\n",
              "      <td>0</td>\n",
              "      <td>0</td>\n",
              "      <td>0</td>\n",
              "      <td>0</td>\n",
              "      <td>0</td>\n",
              "      <td>...</td>\n",
              "      <td>0</td>\n",
              "      <td>0</td>\n",
              "      <td>0</td>\n",
              "      <td>0</td>\n",
              "      <td>0</td>\n",
              "      <td>0</td>\n",
              "      <td>0</td>\n",
              "      <td>0</td>\n",
              "      <td>1</td>\n",
              "      <td>0</td>\n",
              "    </tr>\n",
              "    <tr>\n",
              "      <th>3</th>\n",
              "      <td>1</td>\n",
              "      <td>0</td>\n",
              "      <td>0</td>\n",
              "      <td>0</td>\n",
              "      <td>0</td>\n",
              "      <td>0</td>\n",
              "      <td>0</td>\n",
              "      <td>0</td>\n",
              "      <td>0</td>\n",
              "      <td>0</td>\n",
              "      <td>...</td>\n",
              "      <td>0</td>\n",
              "      <td>0</td>\n",
              "      <td>0</td>\n",
              "      <td>0</td>\n",
              "      <td>0</td>\n",
              "      <td>0</td>\n",
              "      <td>0</td>\n",
              "      <td>0</td>\n",
              "      <td>1</td>\n",
              "      <td>0</td>\n",
              "    </tr>\n",
              "    <tr>\n",
              "      <th>4</th>\n",
              "      <td>1</td>\n",
              "      <td>0</td>\n",
              "      <td>0</td>\n",
              "      <td>0</td>\n",
              "      <td>0</td>\n",
              "      <td>0</td>\n",
              "      <td>0</td>\n",
              "      <td>0</td>\n",
              "      <td>0</td>\n",
              "      <td>0</td>\n",
              "      <td>...</td>\n",
              "      <td>0</td>\n",
              "      <td>0</td>\n",
              "      <td>0</td>\n",
              "      <td>0</td>\n",
              "      <td>0</td>\n",
              "      <td>0</td>\n",
              "      <td>0</td>\n",
              "      <td>0</td>\n",
              "      <td>1</td>\n",
              "      <td>0</td>\n",
              "    </tr>\n",
              "    <tr>\n",
              "      <th>...</th>\n",
              "      <td>...</td>\n",
              "      <td>...</td>\n",
              "      <td>...</td>\n",
              "      <td>...</td>\n",
              "      <td>...</td>\n",
              "      <td>...</td>\n",
              "      <td>...</td>\n",
              "      <td>...</td>\n",
              "      <td>...</td>\n",
              "      <td>...</td>\n",
              "      <td>...</td>\n",
              "      <td>...</td>\n",
              "      <td>...</td>\n",
              "      <td>...</td>\n",
              "      <td>...</td>\n",
              "      <td>...</td>\n",
              "      <td>...</td>\n",
              "      <td>...</td>\n",
              "      <td>...</td>\n",
              "      <td>...</td>\n",
              "      <td>...</td>\n",
              "    </tr>\n",
              "    <tr>\n",
              "      <th>18244</th>\n",
              "      <td>0</td>\n",
              "      <td>0</td>\n",
              "      <td>0</td>\n",
              "      <td>0</td>\n",
              "      <td>0</td>\n",
              "      <td>0</td>\n",
              "      <td>0</td>\n",
              "      <td>0</td>\n",
              "      <td>0</td>\n",
              "      <td>0</td>\n",
              "      <td>...</td>\n",
              "      <td>0</td>\n",
              "      <td>0</td>\n",
              "      <td>0</td>\n",
              "      <td>0</td>\n",
              "      <td>0</td>\n",
              "      <td>0</td>\n",
              "      <td>0</td>\n",
              "      <td>1</td>\n",
              "      <td>0</td>\n",
              "      <td>1</td>\n",
              "    </tr>\n",
              "    <tr>\n",
              "      <th>18245</th>\n",
              "      <td>0</td>\n",
              "      <td>0</td>\n",
              "      <td>0</td>\n",
              "      <td>0</td>\n",
              "      <td>0</td>\n",
              "      <td>0</td>\n",
              "      <td>0</td>\n",
              "      <td>0</td>\n",
              "      <td>0</td>\n",
              "      <td>0</td>\n",
              "      <td>...</td>\n",
              "      <td>0</td>\n",
              "      <td>0</td>\n",
              "      <td>0</td>\n",
              "      <td>0</td>\n",
              "      <td>0</td>\n",
              "      <td>0</td>\n",
              "      <td>0</td>\n",
              "      <td>1</td>\n",
              "      <td>0</td>\n",
              "      <td>1</td>\n",
              "    </tr>\n",
              "    <tr>\n",
              "      <th>18246</th>\n",
              "      <td>0</td>\n",
              "      <td>0</td>\n",
              "      <td>0</td>\n",
              "      <td>0</td>\n",
              "      <td>0</td>\n",
              "      <td>0</td>\n",
              "      <td>0</td>\n",
              "      <td>0</td>\n",
              "      <td>0</td>\n",
              "      <td>0</td>\n",
              "      <td>...</td>\n",
              "      <td>0</td>\n",
              "      <td>0</td>\n",
              "      <td>0</td>\n",
              "      <td>0</td>\n",
              "      <td>0</td>\n",
              "      <td>0</td>\n",
              "      <td>0</td>\n",
              "      <td>1</td>\n",
              "      <td>0</td>\n",
              "      <td>1</td>\n",
              "    </tr>\n",
              "    <tr>\n",
              "      <th>18247</th>\n",
              "      <td>0</td>\n",
              "      <td>0</td>\n",
              "      <td>0</td>\n",
              "      <td>0</td>\n",
              "      <td>0</td>\n",
              "      <td>0</td>\n",
              "      <td>0</td>\n",
              "      <td>0</td>\n",
              "      <td>0</td>\n",
              "      <td>0</td>\n",
              "      <td>...</td>\n",
              "      <td>0</td>\n",
              "      <td>0</td>\n",
              "      <td>0</td>\n",
              "      <td>0</td>\n",
              "      <td>0</td>\n",
              "      <td>0</td>\n",
              "      <td>0</td>\n",
              "      <td>1</td>\n",
              "      <td>0</td>\n",
              "      <td>1</td>\n",
              "    </tr>\n",
              "    <tr>\n",
              "      <th>18248</th>\n",
              "      <td>0</td>\n",
              "      <td>0</td>\n",
              "      <td>0</td>\n",
              "      <td>0</td>\n",
              "      <td>0</td>\n",
              "      <td>0</td>\n",
              "      <td>0</td>\n",
              "      <td>0</td>\n",
              "      <td>0</td>\n",
              "      <td>0</td>\n",
              "      <td>...</td>\n",
              "      <td>0</td>\n",
              "      <td>0</td>\n",
              "      <td>0</td>\n",
              "      <td>0</td>\n",
              "      <td>0</td>\n",
              "      <td>0</td>\n",
              "      <td>0</td>\n",
              "      <td>1</td>\n",
              "      <td>0</td>\n",
              "      <td>1</td>\n",
              "    </tr>\n",
              "  </tbody>\n",
              "</table>\n",
              "<p>18249 rows × 56 columns</p>\n",
              "</div>"
            ],
            "text/plain": [
              "       region_Albany  region_Atlanta  region_BaltimoreWashington  \\\n",
              "0                  1               0                           0   \n",
              "1                  1               0                           0   \n",
              "2                  1               0                           0   \n",
              "3                  1               0                           0   \n",
              "4                  1               0                           0   \n",
              "...              ...             ...                         ...   \n",
              "18244              0               0                           0   \n",
              "18245              0               0                           0   \n",
              "18246              0               0                           0   \n",
              "18247              0               0                           0   \n",
              "18248              0               0                           0   \n",
              "\n",
              "       region_Boise  region_Boston  region_BuffaloRochester  \\\n",
              "0                 0              0                        0   \n",
              "1                 0              0                        0   \n",
              "2                 0              0                        0   \n",
              "3                 0              0                        0   \n",
              "4                 0              0                        0   \n",
              "...             ...            ...                      ...   \n",
              "18244             0              0                        0   \n",
              "18245             0              0                        0   \n",
              "18246             0              0                        0   \n",
              "18247             0              0                        0   \n",
              "18248             0              0                        0   \n",
              "\n",
              "       region_California  region_Charlotte  region_Chicago  \\\n",
              "0                      0                 0               0   \n",
              "1                      0                 0               0   \n",
              "2                      0                 0               0   \n",
              "3                      0                 0               0   \n",
              "4                      0                 0               0   \n",
              "...                  ...               ...             ...   \n",
              "18244                  0                 0               0   \n",
              "18245                  0                 0               0   \n",
              "18246                  0                 0               0   \n",
              "18247                  0                 0               0   \n",
              "18248                  0                 0               0   \n",
              "\n",
              "       region_CincinnatiDayton  ...  region_Southeast  region_Spokane  \\\n",
              "0                            0  ...                 0               0   \n",
              "1                            0  ...                 0               0   \n",
              "2                            0  ...                 0               0   \n",
              "3                            0  ...                 0               0   \n",
              "4                            0  ...                 0               0   \n",
              "...                        ...  ...               ...             ...   \n",
              "18244                        0  ...                 0               0   \n",
              "18245                        0  ...                 0               0   \n",
              "18246                        0  ...                 0               0   \n",
              "18247                        0  ...                 0               0   \n",
              "18248                        0  ...                 0               0   \n",
              "\n",
              "       region_StLouis  region_Syracuse  region_Tampa  region_TotalUS  \\\n",
              "0                   0                0             0               0   \n",
              "1                   0                0             0               0   \n",
              "2                   0                0             0               0   \n",
              "3                   0                0             0               0   \n",
              "4                   0                0             0               0   \n",
              "...               ...              ...           ...             ...   \n",
              "18244               0                0             0               0   \n",
              "18245               0                0             0               0   \n",
              "18246               0                0             0               0   \n",
              "18247               0                0             0               0   \n",
              "18248               0                0             0               0   \n",
              "\n",
              "       region_West  region_WestTexNewMexico  type_conventional  type_organic  \n",
              "0                0                        0                  1             0  \n",
              "1                0                        0                  1             0  \n",
              "2                0                        0                  1             0  \n",
              "3                0                        0                  1             0  \n",
              "4                0                        0                  1             0  \n",
              "...            ...                      ...                ...           ...  \n",
              "18244            0                        1                  0             1  \n",
              "18245            0                        1                  0             1  \n",
              "18246            0                        1                  0             1  \n",
              "18247            0                        1                  0             1  \n",
              "18248            0                        1                  0             1  \n",
              "\n",
              "[18249 rows x 56 columns]"
            ]
          },
          "execution_count": 239,
          "metadata": {},
          "output_type": "execute_result"
        }
      ],
      "source": [
        "one_hot_cat = pd.get_dummies(df[categorical_columns])\n",
        "one_hot_cat"
      ]
    },
    {
      "cell_type": "code",
      "execution_count": 240,
      "metadata": {},
      "outputs": [
        {
          "data": {
            "text/plain": [
              "(18249, 62)"
            ]
          },
          "execution_count": 240,
          "metadata": {},
          "output_type": "execute_result"
        }
      ],
      "source": [
        "df_onehot = pd.concat([df[numeric_columns], one_hot_cat], axis=1)\n",
        "\n",
        "X = df_onehot.drop([TARGET_NAME], axis=1).to_numpy()\n",
        "y = df_onehot[TARGET_NAME].to_numpy()\n",
        "\n",
        "X.shape"
      ]
    },
    {
      "cell_type": "code",
      "execution_count": 241,
      "metadata": {},
      "outputs": [
        {
          "name": "stdout",
          "output_type": "stream",
          "text": [
            "Mean target value: 1.41\n",
            "Cross-val RMSE: 2.9e-01\n"
          ]
        }
      ],
      "source": [
        "test_clf(LinearRegression(), X, y)"
      ]
    },
    {
      "cell_type": "code",
      "execution_count": 242,
      "metadata": {},
      "outputs": [
        {
          "name": "stdout",
          "output_type": "stream",
          "text": [
            "Best params:  {'max_depth': 3, 'n_estimators': 200}\n"
          ]
        }
      ],
      "source": [
        "gbooster2 = build_gb(X, y)"
      ]
    },
    {
      "cell_type": "code",
      "execution_count": 243,
      "metadata": {},
      "outputs": [
        {
          "name": "stdout",
          "output_type": "stream",
          "text": [
            "Mean target value: 1.41\n",
            "Cross-val RMSE: 2.8e-01\n"
          ]
        }
      ],
      "source": [
        "test_clf(gbooster2, X, y)"
      ]
    },
    {
      "cell_type": "code",
      "execution_count": 266,
      "metadata": {},
      "outputs": [],
      "source": [
        "def target_encoding(data, cat_columns, targe_name):\n",
        "  res = pd.DataFrame()\n",
        "  \n",
        "  for column in cat_columns:\n",
        "    encoded_column = data.groupby(column)[targe_name].transform('mean')\n",
        "    res['tg_enc_' + column] = encoded_column\n",
        "    \n",
        "  return res"
      ]
    },
    {
      "cell_type": "code",
      "execution_count": 267,
      "metadata": {},
      "outputs": [
        {
          "data": {
            "text/html": [
              "<div>\n",
              "<style scoped>\n",
              "    .dataframe tbody tr th:only-of-type {\n",
              "        vertical-align: middle;\n",
              "    }\n",
              "\n",
              "    .dataframe tbody tr th {\n",
              "        vertical-align: top;\n",
              "    }\n",
              "\n",
              "    .dataframe thead th {\n",
              "        text-align: right;\n",
              "    }\n",
              "</style>\n",
              "<table border=\"1\" class=\"dataframe\">\n",
              "  <thead>\n",
              "    <tr style=\"text-align: right;\">\n",
              "      <th></th>\n",
              "      <th>tg_enc_region</th>\n",
              "      <th>tg_enc_type</th>\n",
              "    </tr>\n",
              "  </thead>\n",
              "  <tbody>\n",
              "    <tr>\n",
              "      <th>0</th>\n",
              "      <td>1.561036</td>\n",
              "      <td>1.158040</td>\n",
              "    </tr>\n",
              "    <tr>\n",
              "      <th>1</th>\n",
              "      <td>1.561036</td>\n",
              "      <td>1.158040</td>\n",
              "    </tr>\n",
              "    <tr>\n",
              "      <th>2</th>\n",
              "      <td>1.561036</td>\n",
              "      <td>1.158040</td>\n",
              "    </tr>\n",
              "    <tr>\n",
              "      <th>3</th>\n",
              "      <td>1.561036</td>\n",
              "      <td>1.158040</td>\n",
              "    </tr>\n",
              "    <tr>\n",
              "      <th>4</th>\n",
              "      <td>1.561036</td>\n",
              "      <td>1.158040</td>\n",
              "    </tr>\n",
              "    <tr>\n",
              "      <th>...</th>\n",
              "      <td>...</td>\n",
              "      <td>...</td>\n",
              "    </tr>\n",
              "    <tr>\n",
              "      <th>18244</th>\n",
              "      <td>1.261701</td>\n",
              "      <td>1.653999</td>\n",
              "    </tr>\n",
              "    <tr>\n",
              "      <th>18245</th>\n",
              "      <td>1.261701</td>\n",
              "      <td>1.653999</td>\n",
              "    </tr>\n",
              "    <tr>\n",
              "      <th>18246</th>\n",
              "      <td>1.261701</td>\n",
              "      <td>1.653999</td>\n",
              "    </tr>\n",
              "    <tr>\n",
              "      <th>18247</th>\n",
              "      <td>1.261701</td>\n",
              "      <td>1.653999</td>\n",
              "    </tr>\n",
              "    <tr>\n",
              "      <th>18248</th>\n",
              "      <td>1.261701</td>\n",
              "      <td>1.653999</td>\n",
              "    </tr>\n",
              "  </tbody>\n",
              "</table>\n",
              "<p>18249 rows × 2 columns</p>\n",
              "</div>"
            ],
            "text/plain": [
              "       tg_enc_region  tg_enc_type\n",
              "0           1.561036     1.158040\n",
              "1           1.561036     1.158040\n",
              "2           1.561036     1.158040\n",
              "3           1.561036     1.158040\n",
              "4           1.561036     1.158040\n",
              "...              ...          ...\n",
              "18244       1.261701     1.653999\n",
              "18245       1.261701     1.653999\n",
              "18246       1.261701     1.653999\n",
              "18247       1.261701     1.653999\n",
              "18248       1.261701     1.653999\n",
              "\n",
              "[18249 rows x 2 columns]"
            ]
          },
          "execution_count": 267,
          "metadata": {},
          "output_type": "execute_result"
        }
      ],
      "source": [
        "tg_encoded = target_encoding(df, categorical_columns, TARGET_NAME)\n",
        "tg_encoded"
      ]
    },
    {
      "cell_type": "code",
      "execution_count": 275,
      "metadata": {},
      "outputs": [
        {
          "data": {
            "text/plain": [
              "(18249, 8)"
            ]
          },
          "execution_count": 275,
          "metadata": {},
          "output_type": "execute_result"
        }
      ],
      "source": [
        "df_tg_enc = pd.concat([df[numeric_columns], tg_encoded], axis=1)\n",
        "X = df_tg_enc.drop([TARGET_NAME], axis=1)\n",
        "y = df_tg_enc[TARGET_NAME]\n",
        "\n",
        "X.shape"
      ]
    },
    {
      "cell_type": "code",
      "execution_count": 269,
      "metadata": {},
      "outputs": [
        {
          "name": "stdout",
          "output_type": "stream",
          "text": [
            "Mean target value: 1.41\n",
            "Cross-val RMSE: 2.8e-01\n"
          ]
        }
      ],
      "source": [
        "test_clf(LinearRegression(), X, y)"
      ]
    },
    {
      "cell_type": "code",
      "execution_count": 248,
      "metadata": {},
      "outputs": [
        {
          "name": "stdout",
          "output_type": "stream",
          "text": [
            "Best params:  {'max_depth': 3, 'n_estimators': 200}\n"
          ]
        }
      ],
      "source": [
        "gbooster3 = build_gb(X, y)"
      ]
    },
    {
      "cell_type": "code",
      "execution_count": 249,
      "metadata": {},
      "outputs": [
        {
          "name": "stdout",
          "output_type": "stream",
          "text": [
            "Mean target value: 1.41\n",
            "Cross-val RMSE: 2.7e-01\n"
          ]
        }
      ],
      "source": [
        "test_clf(gbooster3, X, y)"
      ]
    },
    {
      "cell_type": "markdown",
      "metadata": {},
      "source": [
        "# Задание 4\n",
        "\n",
        "Визуализировать объекты (не обязательно для той же таблицы) в пространстве главных компонент."
      ]
    },
    {
      "cell_type": "code",
      "execution_count": 272,
      "metadata": {},
      "outputs": [
        {
          "data": {
            "text/plain": [
              "(18249, 2)"
            ]
          },
          "execution_count": 272,
          "metadata": {},
          "output_type": "execute_result"
        }
      ],
      "source": [
        "pca = PCA(n_components=2)\n",
        "\n",
        "x_reduced = pca.fit_transform(X)\n",
        "x_reduced.shape"
      ]
    },
    {
      "cell_type": "code",
      "execution_count": 284,
      "metadata": {},
      "outputs": [
        {
          "data": {
            "image/png": "[encoded data removed]",
            "text/plain": [
              "<Figure size 640x480 with 1 Axes>"
            ]
          },
          "metadata": {},
          "output_type": "display_data"
        }
      ],
      "source": [
        "import matplotlib.pyplot as plt\n",
        "\n",
        "ax = plt.figure().add_subplot(projection='3d')\n",
        "\n",
        "# Plot the 3D surface\n",
        "ax.scatter3D(x_reduced[:,0], x_reduced[:,1], y, c=y, cmap='viridis');"
      ]
    }
  ],
  "metadata": {
    "colab": {
      "authorship_tag": "ABX9TyMkFWkQsrXKdHn73ZLstVb4",
      "include_colab_link": true,
      "provenance": []
    },
    "kernelspec": {
      "display_name": "Python 3.10.8 64-bit",
      "language": "python",
      "name": "python3"
    },
    "language_info": {
      "codemirror_mode": {
        "name": "ipython",
        "version": 3
      },
      "file_extension": ".py",
      "mimetype": "text/x-python",
      "name": "python",
      "nbconvert_exporter": "python",
      "pygments_lexer": "ipython3",
      "version": "3.10.8"
    },
    "vscode": {
      "interpreter": {
        "hash": "bcc5dbfaa88d56578ce89372c296b1cd40e1e5f211114e9cc0f0186aba4d6705"
      }
    }
  },
  "nbformat": 4,
  "nbformat_minor": 0
}
